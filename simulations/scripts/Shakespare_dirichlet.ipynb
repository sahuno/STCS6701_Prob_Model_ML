{
 "cells": [
  {
   "cell_type": "code",
   "execution_count": 9,
   "id": "7e966c4c-c1d0-4c4b-91ce-61011b24c617",
   "metadata": {},
   "outputs": [
    {
     "data": {
      "text/plain": [
       "array([[0., 0., 0., 0., 0., 0., 0.],\n",
       "       [0., 0., 0., 0., 0., 0., 0.],\n",
       "       [0., 0., 0., 0., 0., 0., 0.],\n",
       "       [0., 0., 0., 0., 0., 0., 0.]])"
      ]
     },
     "execution_count": 9,
     "metadata": {},
     "output_type": "execute_result"
    }
   ],
   "source": [
    "import numpy as np\n",
    "\n",
    "#create shakespare words\n",
    "words = [\"thou\", \"art\", \"my\", \"help\"]\n",
    "\n",
    "#get wrds from dictionary\n",
    "dictWords = [\"my\", \"friend\", \"is\", \"thy\", \"God\", \"Zeus\"]\n",
    "dictWords.append(words)\n",
    "\n",
    "\n",
    "lenDictWords = len(dictWords)\n",
    "lenShakespare = len(words)\n",
    "\n",
    "#one hot encoding \n",
    "np.zeros((lenShakespare,lenDictWords))"
   ]
  },
  {
   "cell_type": "code",
   "execution_count": 14,
   "id": "5a2185a6-45e7-481c-a00b-ed660a96b03c",
   "metadata": {},
   "outputs": [
    {
     "name": "stdout",
     "output_type": "stream",
     "text": [
      "[[0. 0. 0. 0. 0. 0. 1. 0. 0. 0.]\n",
      " [0. 0. 0. 0. 0. 0. 0. 1. 0. 0.]\n",
      " [1. 0. 0. 0. 0. 0. 0. 0. 0. 0.]\n",
      " [0. 0. 0. 0. 0. 0. 0. 0. 0. 1.]]\n"
     ]
    }
   ],
   "source": [
    "# Initialize the one-hot encoding matrix with zeros\n",
    "one_hot_matrix = np.zeros((lenShakespare, lenDictWords))\n",
    "\n",
    "\n",
    "# Fill in the matrix with 1s where there's a match\n",
    "for i, word in enumerate(words):\n",
    "    if word in dictWords:\n",
    "        index = dictWords.index(word)\n",
    "        one_hot_matrix[i][index] = 1\n",
    "\n",
    "print(one_hot_matrix)"
   ]
  },
  {
   "cell_type": "code",
   "execution_count": 17,
   "id": "eb5ad1de-d43d-4fa9-b246-8b57da5d6124",
   "metadata": {},
   "outputs": [
    {
     "data": {
      "text/plain": [
       "array([0.01125453, 0.00433121, 0.0332993 , 0.07626076, 0.1401756 ,\n",
       "       0.27614527, 0.17446013, 0.06338885, 0.05097803, 0.16970631])"
      ]
     },
     "execution_count": 17,
     "metadata": {},
     "output_type": "execute_result"
    }
   ],
   "source": [
    "# mdoel true dist\n",
    "#assume uniform prior on K's\n",
    "alphas = np.random.binomial(1, 1, size=lenDictWords)\n",
    "K_Simplex = np.random.dirichlet(alphas) #give me"
   ]
  },
  {
   "cell_type": "code",
   "execution_count": null,
   "id": "8fa6c17f-3e97-46cf-888f-3413838c1844",
   "metadata": {},
   "outputs": [],
   "source": []
  }
 ],
 "metadata": {
  "kernelspec": {
   "display_name": "Python 3 (Spyder)",
   "language": "python3",
   "name": "python3"
  },
  "language_info": {
   "codemirror_mode": {
    "name": "ipython",
    "version": 3
   },
   "file_extension": ".py",
   "mimetype": "text/x-python",
   "name": "python",
   "nbconvert_exporter": "python",
   "pygments_lexer": "ipython3",
   "version": "3.11.6"
  }
 },
 "nbformat": 4,
 "nbformat_minor": 5
}
